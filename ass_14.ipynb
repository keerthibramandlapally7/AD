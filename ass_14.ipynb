{
  "nbformat": 4,
  "nbformat_minor": 0,
  "metadata": {
    "colab": {
      "provenance": []
    },
    "kernelspec": {
      "name": "python3",
      "display_name": "Python 3"
    },
    "language_info": {
      "name": "python"
    }
  },
  "cells": [
    {
      "cell_type": "code",
      "execution_count": null,
      "metadata": {
        "id": "jXZBoVcR3P-S"
      },
      "outputs": [],
      "source": [
        "import spacy\n",
        "\n",
        "# Load SpaCy's English model\n",
        "nlp = spacy.load('en_core_web_sm')\n",
        "\n",
        "# Sentence to analyze\n",
        "sentence = 'NLP is amazing and fun to learn.'\n",
        "\n",
        "# Process the sentence with SpaCy\n",
        "doc = nlp(sentence)\n",
        "\n",
        "# Print part-of-speech tagging for each token\n",
        "for token in doc:\n",
        "    print(f'{token.text} -> {token.pos_}')\n"
      ]
    }
  ]
}