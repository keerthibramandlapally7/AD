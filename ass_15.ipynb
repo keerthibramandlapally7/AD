{
  "nbformat": 4,
  "nbformat_minor": 0,
  "metadata": {
    "colab": {
      "provenance": []
    },
    "kernelspec": {
      "name": "python3",
      "display_name": "Python 3"
    },
    "language_info": {
      "name": "python"
    }
  },
  "cells": [
    {
      "cell_type": "code",
      "source": [
        "from sklearn.feature_extraction.text import TfidfVectorizer\n",
        "from sklearn.metrics.pairwise import cosine_similarity\n",
        "\n",
        "# Define two sample strings\n",
        "text1 = \"Data science is an inter-disciplinary field.\"\n",
        "text2 = \"Machine learning is a part of data science.\"\n",
        "\n",
        "# Initialize the TfidfVectorizer\n",
        "vectorizer = TfidfVectorizer()\n",
        "\n",
        "# Combine the two texts into a list\n",
        "texts = [text1, text2]\n",
        "\n",
        "# Transform the texts into TF-IDF vectors\n",
        "tfidf_matrix = vectorizer.fit_transform(texts)\n",
        "\n",
        "# Calculate the cosine similarity between the two texts\n",
        "cosine_sim = cosine_similarity(tfidf_matrix[0:1], tfidf_matrix[1:2])\n",
        "\n",
        "# Print the cosine similarity score\n",
        "print(\"Cosine Similarity: \", cosine_sim[0][0])\n"
      ],
      "metadata": {
        "colab": {
          "base_uri": "https://localhost:8080/"
        },
        "id": "C6wFT_QV6Lj9",
        "outputId": "5e37a01a-33d4-4c99-ce91-10eed13f7e12"
      },
      "execution_count": 10,
      "outputs": [
        {
          "output_type": "stream",
          "name": "stdout",
          "text": [
            "Cosine Similarity:  0.275195812175023\n"
          ]
        }
      ]
    },
    {
      "cell_type": "code",
      "source": [],
      "metadata": {
        "id": "IYQW8RU14hgV"
      },
      "execution_count": 9,
      "outputs": []
    }
  ]
}