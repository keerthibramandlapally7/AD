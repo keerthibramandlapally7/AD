{
  "nbformat": 4,
  "nbformat_minor": 0,
  "metadata": {
    "colab": {
      "provenance": []
    },
    "kernelspec": {
      "name": "python3",
      "display_name": "Python 3"
    },
    "language_info": {
      "name": "python"
    }
  },
  "cells": [
    {
      "cell_type": "code",
      "execution_count": 2,
      "metadata": {
        "colab": {
          "base_uri": "https://localhost:8080/"
        },
        "id": "nZIDFv8dzLRj",
        "outputId": "04d8c5c1-5cf9-4511-f648-d005fc34a1a7"
      },
      "outputs": [
        {
          "output_type": "stream",
          "name": "stdout",
          "text": [
            "Original Text:\n",
            "Hello, World! Welcome to NLP 101.\n",
            "\n",
            "Cleaned Text:\n",
            "hello world welcome to nlp 101\n"
          ]
        }
      ],
      "source": [
        "import re\n",
        "\n",
        "# Function to clean text by removing special characters and converting to lowercase\n",
        "def clean_text(text):\n",
        "    cleaned_text = re.sub(r'[^a-zA-Z0-9\\s]', '', text)  # Remove special characters\n",
        "    cleaned_text = cleaned_text.lower()  # Convert to lowercase\n",
        "    return cleaned_text\n",
        "\n",
        "# Sample text data for cleaning\n",
        "text_data = \"Hello, World! Welcome to NLP 101.\"\n",
        "\n",
        "# Clean the text\n",
        "text_data_cleaned = clean_text(text_data)\n",
        "\n",
        "# Display results\n",
        "print(\"Original Text:\")\n",
        "print(text_data)\n",
        "print(\"\\nCleaned Text:\")\n",
        "print(text_data_cleaned)\n",
        "\n"
      ]
    }
  ]
}