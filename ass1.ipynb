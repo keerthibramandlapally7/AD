{
 "cells": [
  {
   "cell_type": "code",
   "execution_count": 2,
   "id": "47e05218-391b-4e0d-8877-c94b57796ca7",
   "metadata": {},
   "outputs": [
    {
     "name": "stdout",
     "output_type": "stream",
     "text": [
      "Integer: 10 Type: <class 'int'>\n"
     ]
    }
   ],
   "source": [
    "integer_var=10\n",
    "print(\"Integer:\",integer_var,\"Type:\",type(integer_var))"
   ]
  },
  {
   "cell_type": "code",
   "execution_count": 4,
   "id": "86065eb7-887a-4054-adbf-48a01e8f2173",
   "metadata": {},
   "outputs": [
    {
     "name": "stdout",
     "output_type": "stream",
     "text": [
      "Float: 4.5 Type: <class 'float'>\n"
     ]
    }
   ],
   "source": [
    "float_var=4.5\n",
    "print(\"Float:\",float_var,\"Type:\",type(float_var))"
   ]
  },
  {
   "cell_type": "code",
   "execution_count": 6,
   "id": "b1efd3ea-16c2-438c-a913-97349f6bc37e",
   "metadata": {},
   "outputs": [
    {
     "name": "stdout",
     "output_type": "stream",
     "text": [
      "String: Bunny Type: <class 'str'>\n"
     ]
    }
   ],
   "source": [
    "string_var=\"Bunny\"\n",
    "print(\"String:\",string_var,\"Type:\",type(string_var))"
   ]
  },
  {
   "cell_type": "code",
   "execution_count": 8,
   "id": "3d45e6fd-4365-4357-8931-ba9ed5adb80d",
   "metadata": {},
   "outputs": [
    {
     "name": "stdout",
     "output_type": "stream",
     "text": [
      "Booleaan: 4.5 Type: <class 'float'>\n"
     ]
    }
   ],
   "source": [
    "boolean_var=4.5\n",
    "print(\"Booleaan:\",boolean_var,\"Type:\",type(boolean_var))"
   ]
  },
  {
   "cell_type": "code",
   "execution_count": null,
   "id": "6fc8a4d5-1a79-4161-8ba0-e476a79f6721",
   "metadata": {},
   "outputs": [],
   "source": []
  }
 ],
 "metadata": {
  "kernelspec": {
   "display_name": "Python [conda env:base] *",
   "language": "python",
   "name": "conda-base-py"
  },
  "language_info": {
   "codemirror_mode": {
    "name": "ipython",
    "version": 3
   },
   "file_extension": ".py",
   "mimetype": "text/x-python",
   "name": "python",
   "nbconvert_exporter": "python",
   "pygments_lexer": "ipython3",
   "version": "3.12.7"
  }
 },
 "nbformat": 4,
 "nbformat_minor": 5
}
