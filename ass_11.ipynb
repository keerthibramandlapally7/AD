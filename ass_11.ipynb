{
  "nbformat": 4,
  "nbformat_minor": 0,
  "metadata": {
    "colab": {
      "provenance": []
    },
    "kernelspec": {
      "name": "python3",
      "display_name": "Python 3"
    },
    "language_info": {
      "name": "python"
    }
  },
  "cells": [
    {
      "cell_type": "code",
      "source": [
        "import re\n",
        "\n",
        "# Function to clean text by removing special characters and converting to lowercase\n",
        "def clean_text(text):\n",
        "    cleaned_text = re.sub(r'[^a-zA-Z0-9\\s]', '', text)  # Remove special characters\n",
        "    cleaned_text = cleaned_text.lower()  # Convert to lowercase\n",
        "    return cleaned_text\n",
        "\n",
        "# Function to extract email addresses from a given string using regular expressions\n",
        "def extract_emails(text):\n",
        "    emails = re.findall(r'[\\w.%+-]+@[\\w.-]+\\.[a-zA-Z]{2,}', text)  # Match email patterns\n",
        "    return emails\n",
        "\n",
        "# Sample text data for cleaning and email extraction\n",
        "text_data = \"Hello, World! Welcome to NLP 101. Contact us at support@example.com and sales@example.org.\"\n",
        "\n",
        "# Clean the text\n",
        "text_data_cleaned = clean_text(text_data)\n",
        "\n",
        "# Extract email addresses\n",
        "email_addresses = extract_emails(text_data)\n",
        "\n",
        "# Display results\n",
        "print(\"Original Text:\")\n",
        "print(text_data)\n",
        "print(\"\\nCleaned Text:\")\n",
        "print(text_data_cleaned)\n",
        "print(\"\\nExtracted Email Addresses:\")\n",
        "print(email_addresses)\n"
      ],
      "metadata": {
        "colab": {
          "base_uri": "https://localhost:8080/"
        },
        "id": "9uOeZwHd023K",
        "outputId": "6cf12093-f91e-44bb-a3af-e9db144c8d03"
      },
      "execution_count": 1,
      "outputs": [
        {
          "output_type": "stream",
          "name": "stdout",
          "text": [
            "Original Text:\n",
            "Hello, World! Welcome to NLP 101. Contact us at support@example.com and sales@example.org.\n",
            "\n",
            "Cleaned Text:\n",
            "hello world welcome to nlp 101 contact us at supportexamplecom and salesexampleorg\n",
            "\n",
            "Extracted Email Addresses:\n",
            "['support@example.com', 'sales@example.org']\n"
          ]
        }
      ]
    }
  ]
}