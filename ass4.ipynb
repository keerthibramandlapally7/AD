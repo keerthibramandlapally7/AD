{
 "cells": [
  {
   "cell_type": "code",
   "execution_count": null,
   "id": "4ad1bb60-a6b3-42af-b626-6a2faa1b011d",
   "metadata": {},
   "outputs": [],
   "source": [
    "n = int(input(\"Enter a positive integer: \").strip())\n",
    "sum_even = 0\n",
    "for i in range(2, n + 1, 2):\n",
    "    sum_even += i\n",
    "\n",
    "print(f\"The sum of all even numbers between 1 and {n} is: {sum_even}\")"
   ]
  }
 ],
 "metadata": {
  "kernelspec": {
   "display_name": "Python [conda env:base] *",
   "language": "python",
   "name": "conda-base-py"
  },
  "language_info": {
   "codemirror_mode": {
    "name": "ipython",
    "version": 3
   },
   "file_extension": ".py",
   "mimetype": "text/x-python",
   "name": "python",
   "nbconvert_exporter": "python",
   "pygments_lexer": "ipython3",
   "version": "3.12.7"
  }
 },
 "nbformat": 4,
 "nbformat_minor": 5
}
