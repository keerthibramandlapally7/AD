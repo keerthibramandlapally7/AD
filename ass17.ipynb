{
  "nbformat": 4,
  "nbformat_minor": 0,
  "metadata": {
    "colab": {
      "provenance": []
    },
    "kernelspec": {
      "name": "python3",
      "display_name": "Python 3"
    },
    "language_info": {
      "name": "python"
    }
  },
  "cells": [
    {
      "cell_type": "code",
      "execution_count": 1,
      "metadata": {
        "colab": {
          "base_uri": "https://localhost:8080/"
        },
        "id": "9OPp92U47ACD",
        "outputId": "99316af1-7eb8-4790-d77a-7b9157b81c73"
      },
      "outputs": [
        {
          "output_type": "stream",
          "name": "stdout",
          "text": [
            "Sentiment: Positive\n"
          ]
        }
      ],
      "source": [
        "from textblob import TextBlob\n",
        "\n",
        "# Example text for sentiment analysis\n",
        "text = \"I love this product! It works perfectly and is exactly what I needed.\"\n",
        "\n",
        "# Create a TextBlob object\n",
        "blob = TextBlob(text)\n",
        "\n",
        "# Get the sentiment polarity\n",
        "sentiment = blob.sentiment.polarity\n",
        "\n",
        "# Determine sentiment type\n",
        "if sentiment > 0:\n",
        "    sentiment_type = \"Positive\"\n",
        "elif sentiment < 0:\n",
        "    sentiment_type = \"Negative\"\n",
        "else:\n",
        "    sentiment_type = \"Neutral\"\n",
        "\n",
        "# Display the sentiment result\n",
        "print(f\"Sentiment: {sentiment_type}\")\n"
      ]
    }
  ]
}