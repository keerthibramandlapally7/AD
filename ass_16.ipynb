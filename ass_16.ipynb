{
  "nbformat": 4,
  "nbformat_minor": 0,
  "metadata": {
    "colab": {
      "provenance": []
    },
    "kernelspec": {
      "name": "python3",
      "display_name": "Python 3"
    },
    "language_info": {
      "name": "python"
    }
  },
  "cells": [
    {
      "cell_type": "code",
      "source": [
        "import spacy\n",
        "\n",
        "# Load the pre-trained SpaCy model for English\n",
        "nlp = spacy.load('en_core_web_sm')\n",
        "\n",
        "# Example text for NER\n",
        "text = \"Apple is looking to buy a startup in the UK for $1 billion. Tim Cook will announce the deal on Monday.\"\n",
        "\n",
        "# Process the text with the SpaCy model\n",
        "doc = nlp(text)\n",
        "\n",
        "# Print the named entities found in the text\n",
        "print(\"Named Entities, Phrases, and Concepts:\")\n",
        "\n",
        "for ent in doc.ents:\n",
        "    print(f\"{ent.text} ({ent.label_})\")\n"
      ],
      "metadata": {
        "colab": {
          "base_uri": "https://localhost:8080/"
        },
        "id": "06MBXn446lcp",
        "outputId": "40963892-7c7c-4f33-d722-2f6437acce29"
      },
      "execution_count": 1,
      "outputs": [
        {
          "output_type": "stream",
          "name": "stdout",
          "text": [
            "Named Entities, Phrases, and Concepts:\n",
            "Apple (ORG)\n",
            "UK (GPE)\n",
            "$1 billion (MONEY)\n",
            "Tim Cook (PERSON)\n",
            "Monday (DATE)\n"
          ]
        }
      ]
    }
  ]
}